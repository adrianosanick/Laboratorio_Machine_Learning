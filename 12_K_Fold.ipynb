{
 "cells": [
  {
   "cell_type": "markdown",
   "metadata": {},
   "source": [
    "# Validação cruzada - K-Fold"
   ]
  },
  {
   "cell_type": "markdown",
   "metadata": {},
   "source": [
    "Avaliar um modelo de Machine Learning pode ser bastante complicado. Normalmente, dividimos o conjunto de dados em conjuntos de treinamento e teste e usamos o conjunto de treinamento para treinar o modelo e o conjunto de testes para testar o modelo. Em seguida, avaliamos o desempenho do modelo com base em uma métrica de erro para determinar a precisão do modelo. Esse método, no entanto, não é muito confiável, pois a precisão obtida para um conjunto de testes pode ser muito diferente da precisão obtida para um conjunto de testes diferente. A validação cruzada  fornece uma solução para esse problema dividindo os dados em seções e garantindo que cada seção seja usada como um conjunto de testes em algum momento.\n",
    "\n",
    " <img src='grid_search_workflow.png' />"
   ]
  },
  {
   "cell_type": "markdown",
   "metadata": {},
   "source": [
    "# O que é a Validação Cruzada com k Seções (k Fold CV)?"
   ]
  },
  {
   "cell_type": "markdown",
   "metadata": {},
   "source": [
    "O K-Fold CV é o local em que um determinado conjunto de dados é dividido em um número K de seções / dobras, onde cada dobra é usada como um conjunto de testes em algum momento. Vamos pegar o cenário de validação cruzada de 5 vezes (K = 5). Aqui, o conjunto de dados é dividido em 5 dobras. Na primeira iteração, a primeira dobra é usada para testar o modelo e o restante é usado para treinar o modelo. Na segunda iteração, a segunda dobra é usada como o conjunto de testes, enquanto o restante serve como o conjunto de treinamento. Esse processo é repetido até que cada dobra das 5 dobras tenha sido usada como conjunto de teste.\n",
    "\n",
    " <img src='k_fold.png' />"
   ]
  },
  {
   "cell_type": "code",
   "execution_count": null,
   "metadata": {},
   "outputs": [],
   "source": []
  }
 ],
 "metadata": {
  "kernelspec": {
   "display_name": "Python 3",
   "language": "python",
   "name": "python3"
  },
  "language_info": {
   "codemirror_mode": {
    "name": "ipython",
    "version": 3
   },
   "file_extension": ".py",
   "mimetype": "text/x-python",
   "name": "python",
   "nbconvert_exporter": "python",
   "pygments_lexer": "ipython3",
   "version": "3.7.3"
  }
 },
 "nbformat": 4,
 "nbformat_minor": 2
}

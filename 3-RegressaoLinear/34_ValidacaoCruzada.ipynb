{
 "cells": [
  {
   "cell_type": "markdown",
   "metadata": {},
   "source": [
    "# Regressão Linear usando Validação Cruzada"
   ]
  },
  {
   "cell_type": "markdown",
   "metadata": {},
   "source": [
    "Avaliar um modelo de Machine Learning pode ser bastante complicado. Normalmente, dividimos o conjunto de dados em conjuntos de treinamento e teste e usamos o conjunto de treinamento para treinar o modelo e o conjunto de testes para testar o modelo. Em seguida, avaliamos o desempenho do modelo com base em uma métrica de erro para determinar a precisão do modelo. Esse método, no entanto, não é muito confiável, pois a precisão obtida para um conjunto de testes pode ser muito diferente da precisão obtida para um conjunto de testes diferente. A validação cruzada  fornece uma solução para esse problema dividindo os dados em seções e garantindo que cada seção seja usada como um conjunto de testes em algum momento.\n",
    "\n",
    "\n",
    "\n",
    " <img src='../grid_search_workflow.png' />"
   ]
  },
  {
   "cell_type": "markdown",
   "metadata": {},
   "source": [
    "# O que é a Validação Cruzada com k Seções (k Fold CV)?"
   ]
  },
  {
   "cell_type": "markdown",
   "metadata": {},
   "source": [
    "O K-Fold CV é o local em que um determinado conjunto de dados é dividido em um número K de seções / dobras, onde cada dobra é usada como um conjunto de testes em algum momento. Vamos pegar o cenário de validação cruzada de 5 vezes (K = 5). Aqui, o conjunto de dados é dividido em 5 dobras. Na primeira iteração, a primeira dobra é usada para testar o modelo e o restante é usado para treinar o modelo. Na segunda iteração, a segunda dobra é usada como o conjunto de testes, enquanto o restante serve como o conjunto de treinamento. Esse processo é repetido até que cada dobra das 5 dobras tenha sido usada como conjunto de teste.\n",
    "\n",
    " <img src='../k_fold.png' />"
   ]
  },
  {
   "cell_type": "markdown",
   "metadata": {},
   "source": [
    "# **Vamos começar!**\n",
    "Utilizaremos o mesmo Dataset do passo a passo sobre Regressão Linear ***'USA_Housing.csv'***\n",
    "\n",
    "## Importando as bibliotecas"
   ]
  },
  {
   "cell_type": "code",
   "execution_count": 110,
   "metadata": {},
   "outputs": [],
   "source": [
    "import pandas as pd\n",
    "import numpy as np\n",
    "import matplotlib.pyplot as plt\n",
    "import seaborn as sns\n",
    "%matplotlib inline\n"
   ]
  },
  {
   "cell_type": "markdown",
   "metadata": {},
   "source": [
    "## Carregando os dados"
   ]
  },
  {
   "cell_type": "code",
   "execution_count": 111,
   "metadata": {},
   "outputs": [
    {
     "data": {
      "text/html": [
       "<div>\n",
       "<style scoped>\n",
       "    .dataframe tbody tr th:only-of-type {\n",
       "        vertical-align: middle;\n",
       "    }\n",
       "\n",
       "    .dataframe tbody tr th {\n",
       "        vertical-align: top;\n",
       "    }\n",
       "\n",
       "    .dataframe thead th {\n",
       "        text-align: right;\n",
       "    }\n",
       "</style>\n",
       "<table border=\"1\" class=\"dataframe\">\n",
       "  <thead>\n",
       "    <tr style=\"text-align: right;\">\n",
       "      <th></th>\n",
       "      <th>Avg. Area Income</th>\n",
       "      <th>Avg. Area House Age</th>\n",
       "      <th>Avg. Area Number of Rooms</th>\n",
       "      <th>Avg. Area Number of Bedrooms</th>\n",
       "      <th>Area Population</th>\n",
       "      <th>Price</th>\n",
       "      <th>Address</th>\n",
       "    </tr>\n",
       "  </thead>\n",
       "  <tbody>\n",
       "    <tr>\n",
       "      <th>0</th>\n",
       "      <td>79545.458574</td>\n",
       "      <td>5.682861</td>\n",
       "      <td>7.009188</td>\n",
       "      <td>4.09</td>\n",
       "      <td>23086.800503</td>\n",
       "      <td>1.059034e+06</td>\n",
       "      <td>208 Michael Ferry Apt. 674\\nLaurabury, NE 3701...</td>\n",
       "    </tr>\n",
       "    <tr>\n",
       "      <th>1</th>\n",
       "      <td>79248.642455</td>\n",
       "      <td>6.002900</td>\n",
       "      <td>6.730821</td>\n",
       "      <td>3.09</td>\n",
       "      <td>40173.072174</td>\n",
       "      <td>1.505891e+06</td>\n",
       "      <td>188 Johnson Views Suite 079\\nLake Kathleen, CA...</td>\n",
       "    </tr>\n",
       "    <tr>\n",
       "      <th>2</th>\n",
       "      <td>61287.067179</td>\n",
       "      <td>5.865890</td>\n",
       "      <td>8.512727</td>\n",
       "      <td>5.13</td>\n",
       "      <td>36882.159400</td>\n",
       "      <td>1.058988e+06</td>\n",
       "      <td>9127 Elizabeth Stravenue\\nDanieltown, WI 06482...</td>\n",
       "    </tr>\n",
       "    <tr>\n",
       "      <th>3</th>\n",
       "      <td>63345.240046</td>\n",
       "      <td>7.188236</td>\n",
       "      <td>5.586729</td>\n",
       "      <td>3.26</td>\n",
       "      <td>34310.242831</td>\n",
       "      <td>1.260617e+06</td>\n",
       "      <td>USS Barnett\\nFPO AP 44820</td>\n",
       "    </tr>\n",
       "    <tr>\n",
       "      <th>4</th>\n",
       "      <td>59982.197226</td>\n",
       "      <td>5.040555</td>\n",
       "      <td>7.839388</td>\n",
       "      <td>4.23</td>\n",
       "      <td>26354.109472</td>\n",
       "      <td>6.309435e+05</td>\n",
       "      <td>USNS Raymond\\nFPO AE 09386</td>\n",
       "    </tr>\n",
       "  </tbody>\n",
       "</table>\n",
       "</div>"
      ],
      "text/plain": [
       "   Avg. Area Income  Avg. Area House Age  Avg. Area Number of Rooms  \\\n",
       "0      79545.458574             5.682861                   7.009188   \n",
       "1      79248.642455             6.002900                   6.730821   \n",
       "2      61287.067179             5.865890                   8.512727   \n",
       "3      63345.240046             7.188236                   5.586729   \n",
       "4      59982.197226             5.040555                   7.839388   \n",
       "\n",
       "   Avg. Area Number of Bedrooms  Area Population         Price  \\\n",
       "0                          4.09     23086.800503  1.059034e+06   \n",
       "1                          3.09     40173.072174  1.505891e+06   \n",
       "2                          5.13     36882.159400  1.058988e+06   \n",
       "3                          3.26     34310.242831  1.260617e+06   \n",
       "4                          4.23     26354.109472  6.309435e+05   \n",
       "\n",
       "                                             Address  \n",
       "0  208 Michael Ferry Apt. 674\\nLaurabury, NE 3701...  \n",
       "1  188 Johnson Views Suite 079\\nLake Kathleen, CA...  \n",
       "2  9127 Elizabeth Stravenue\\nDanieltown, WI 06482...  \n",
       "3                          USS Barnett\\nFPO AP 44820  \n",
       "4                         USNS Raymond\\nFPO AE 09386  "
      ]
     },
     "execution_count": 111,
     "metadata": {},
     "output_type": "execute_result"
    }
   ],
   "source": [
    "USAhousing = pd.read_csv('USA_Housing.csv')\n",
    "USAhousing.head()"
   ]
  },
  {
   "cell_type": "markdown",
   "metadata": {},
   "source": [
    "## As variáveis preditoras e a variável de resposta\n",
    "\n",
    "Para treinar o modelo de regressão, primeiro precisaremos dividir nossos dados em uma matriz **X** que contenha os dados das variáveis preditoras e uma matriz **y** com os dados da variável de destino, nesse caso a coluna Preço. Vamos descartar a coluna Endereço, pois ela possui apenas informações de texto que o modelo de regressão linear não pode usar.\n",
    "\n",
    "### Matrizes X e y"
   ]
  },
  {
   "cell_type": "code",
   "execution_count": 112,
   "metadata": {},
   "outputs": [],
   "source": [
    "X = USAhousing[['Avg. Area Income', 'Avg. Area House Age', 'Avg. Area Number of Rooms',\n",
    "               'Avg. Area Number of Bedrooms', 'Area Population']]\n",
    "y = USAhousing['Price']"
   ]
  },
  {
   "cell_type": "markdown",
   "metadata": {},
   "source": [
    "## Separando os dados de treinamento e de validação"
   ]
  },
  {
   "cell_type": "code",
   "execution_count": 131,
   "metadata": {},
   "outputs": [],
   "source": [
    "from sklearn.model_selection import train_test_split\n",
    "X_train, X_test, y_train, y_test = train_test_split(X, y, test_size=0.33, random_state=101)"
   ]
  },
  {
   "cell_type": "markdown",
   "metadata": {},
   "source": [
    "## Regressão Linear dos mínimos quadrados ordinários"
   ]
  },
  {
   "cell_type": "code",
   "execution_count": 143,
   "metadata": {},
   "outputs": [
    {
     "data": {
      "text/plain": [
       "LinearRegression(copy_X=True, fit_intercept=True, n_jobs=None, normalize=False)"
      ]
     },
     "execution_count": 143,
     "metadata": {},
     "output_type": "execute_result"
    }
   ],
   "source": [
    "from sklearn.linear_model import LinearRegression\n",
    "lm = LinearRegression()\n",
    "lm.fit(X_train,y_train)"
   ]
  },
  {
   "cell_type": "code",
   "execution_count": 144,
   "metadata": {},
   "outputs": [
    {
     "data": {
      "text/html": [
       "<div>\n",
       "<style scoped>\n",
       "    .dataframe tbody tr th:only-of-type {\n",
       "        vertical-align: middle;\n",
       "    }\n",
       "\n",
       "    .dataframe tbody tr th {\n",
       "        vertical-align: top;\n",
       "    }\n",
       "\n",
       "    .dataframe thead th {\n",
       "        text-align: right;\n",
       "    }\n",
       "</style>\n",
       "<table border=\"1\" class=\"dataframe\">\n",
       "  <thead>\n",
       "    <tr style=\"text-align: right;\">\n",
       "      <th></th>\n",
       "      <th>Coefficient</th>\n",
       "    </tr>\n",
       "  </thead>\n",
       "  <tbody>\n",
       "    <tr>\n",
       "      <th>Avg. Area Income</th>\n",
       "      <td>21.642680</td>\n",
       "    </tr>\n",
       "    <tr>\n",
       "      <th>Avg. Area House Age</th>\n",
       "      <td>165227.889797</td>\n",
       "    </tr>\n",
       "    <tr>\n",
       "      <th>Avg. Area Number of Rooms</th>\n",
       "      <td>121886.318611</td>\n",
       "    </tr>\n",
       "    <tr>\n",
       "      <th>Avg. Area Number of Bedrooms</th>\n",
       "      <td>1446.725402</td>\n",
       "    </tr>\n",
       "    <tr>\n",
       "      <th>Area Population</th>\n",
       "      <td>15.240921</td>\n",
       "    </tr>\n",
       "  </tbody>\n",
       "</table>\n",
       "</div>"
      ],
      "text/plain": [
       "                                Coefficient\n",
       "Avg. Area Income                  21.642680\n",
       "Avg. Area House Age           165227.889797\n",
       "Avg. Area Number of Rooms     121886.318611\n",
       "Avg. Area Number of Bedrooms    1446.725402\n",
       "Area Population                   15.240921"
      ]
     },
     "execution_count": 144,
     "metadata": {},
     "output_type": "execute_result"
    }
   ],
   "source": [
    "coeff_df = pd.DataFrame(lm.coef_,X.columns,columns=['Coefficient'])\n",
    "coeff_df"
   ]
  },
  {
   "cell_type": "markdown",
   "metadata": {},
   "source": [
    "## Cross Validation ou Validação Cruzada"
   ]
  },
  {
   "cell_type": "markdown",
   "metadata": {},
   "source": [
    "Faremos uma validação cruzada para verificar esse comportamento. Os dados serão divididos em 5 grupos.\n"
   ]
  },
  {
   "cell_type": "code",
   "execution_count": 174,
   "metadata": {},
   "outputs": [],
   "source": [
    "from sklearn.model_selection import KFold\n",
    "from sklearn import metrics\n",
    "from sklearn.model_selection import cross_val_score"
   ]
  },
  {
   "cell_type": "code",
   "execution_count": 175,
   "metadata": {},
   "outputs": [],
   "source": [
    "scores = []\n",
    "best_lm = LinearRegression()\n",
    "kf = KFold(n_splits=5, random_state=30, shuffle=False)"
   ]
  },
  {
   "cell_type": "code",
   "execution_count": 188,
   "metadata": {},
   "outputs": [
    {
     "name": "stdout",
     "output_type": "stream",
     "text": [
      "Tamanho de X: 5000 \n",
      "\n",
      "MAE:  80458.23930459908\n",
      "MAE_NORMALIZADO: 0.0653031613306974\n",
      "SCORE:  0.9160164588216835\n",
      "                                Coefficient\n",
      "Avg. Area Income                  21.575051\n",
      "Avg. Area House Age           165483.252702\n",
      "Avg. Area Number of Rooms     120234.313874\n",
      "Avg. Area Number of Bedrooms    2863.642681\n",
      "Area Population                   15.300839 \n",
      "\n",
      "\n",
      "\n",
      "\n",
      " \n",
      "MAE:  84256.0981781121\n",
      "MAE_NORMALIZADO: 0.06838565720522576\n",
      "SCORE:  0.919673338169388\n",
      "                                Coefficient\n",
      "Avg. Area Income                  21.428819\n",
      "Avg. Area House Age           166641.425789\n",
      "Avg. Area Number of Rooms     121840.997622\n",
      "Avg. Area Number of Bedrooms    1375.214987\n",
      "Area Population                   15.119496 \n",
      "\n",
      "\n",
      "\n",
      "\n",
      " \n",
      "MAE:  79821.80016120586\n",
      "MAE_NORMALIZADO: 0.0647866015797335\n",
      "SCORE:  0.9147436580304806\n",
      "                                Coefficient\n",
      "Avg. Area Income                  21.650729\n",
      "Avg. Area House Age           164980.478518\n",
      "Avg. Area Number of Rooms     120975.577348\n",
      "Avg. Area Number of Bedrooms    2123.357169\n",
      "Area Population                   15.206885 \n",
      "\n",
      "\n",
      "\n",
      "\n",
      " \n",
      "MAE:  81389.86664537337\n",
      "MAE_NORMALIZADO: 0.06605930776219401\n",
      "SCORE:  0.9194745407383744\n",
      "                                Coefficient\n",
      "Avg. Area Income                  21.574849\n",
      "Avg. Area House Age           165957.418756\n",
      "Avg. Area Number of Rooms     119055.007347\n",
      "Avg. Area Number of Bedrooms     911.056704\n",
      "Area Population                   15.246652 \n",
      "\n",
      "\n",
      "\n",
      "\n",
      " \n",
      "MAE:  81428.59816693321\n",
      "MAE_NORMALIZADO: 0.06609074383167385\n",
      "SCORE:  0.913093357143531\n",
      "                                Coefficient\n",
      "Avg. Area Income                  21.655270\n",
      "Avg. Area House Age           165182.806232\n",
      "Avg. Area Number of Rooms     121190.393868\n",
      "Avg. Area Number of Bedrooms    1010.534079\n",
      "Area Population                   15.122365 \n",
      "\n",
      "\n",
      "\n",
      "\n",
      " \n"
     ]
    }
   ],
   "source": [
    "print (\"Tamanho de X:\",len(X), \"\\n\")\n",
    "\n",
    "for train_index, test_index in kf.split(X):\n",
    "    #print(\"Train Index: \", train_index,len(train_index))\n",
    "    #print(\"Test Index: \", test_index, len(test_index),\"\\n\")\n",
    "    \n",
    "    X_train, X_test = X.loc[train_index], X.loc[test_index]\n",
    "    y_train, y_test = y.loc[train_index], y.loc[test_index]\n",
    "    \n",
    "    best_lm.fit(X_train,y_train)\n",
    "    predictions = best_lm.predict(X_test)\n",
    "     \n",
    "    MAE = metrics.mean_absolute_error(y_test, predictions)\n",
    "    print(\"MAE: \",MAE)\n",
    "    print('MAE_NORMALIZADO:', MAE/y.mean())\n",
    "    \n",
    "    resultado = cross_val_score(best_lm, X_test, y_test, cv = 5)\n",
    "    print(\"SCORE: \",resultado.mean())\n",
    "    \n",
    "    coeff_df = pd.DataFrame(best_lm.coef_,X.columns,columns=['Coefficient'])\n",
    "    print(coeff_df,\"\\n\\n\\n\\n\\n \")\n",
    "    "
   ]
  },
  {
   "cell_type": "markdown",
   "metadata": {},
   "source": [
    "Agora, vamos aplicar a MinMax scaling técnica de pré-processamento para normalizar o conjunto de dados."
   ]
  },
  {
   "cell_type": "code",
   "execution_count": 27,
   "metadata": {},
   "outputs": [],
   "source": [
    "scaler = MinMaxScaler(feature_range=(0, 1))\n",
    "X = scaler.fit_transform(X)"
   ]
  }
 ],
 "metadata": {
  "kernelspec": {
   "display_name": "Python 3",
   "language": "python",
   "name": "python3"
  },
  "language_info": {
   "codemirror_mode": {
    "name": "ipython",
    "version": 3
   },
   "file_extension": ".py",
   "mimetype": "text/x-python",
   "name": "python",
   "nbconvert_exporter": "python",
   "pygments_lexer": "ipython3",
   "version": "3.7.3"
  }
 },
 "nbformat": 4,
 "nbformat_minor": 2
}
